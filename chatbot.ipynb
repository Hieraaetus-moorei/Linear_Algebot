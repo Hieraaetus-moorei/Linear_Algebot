{
  "cells": [
    {
      "cell_type": "markdown",
      "metadata": {},
      "source": [
        "# Linear Algebot\n",
        "This notebook will serve as a terminal handling the chatbot backend.  \n",
        "The chatbot logic is in `app.py`"
      ]
    },
    {
      "cell_type": "code",
      "execution_count": null,
      "metadata": {
        "collapsed": true,
        "id": "iHWgcGYFs6GZ"
      },
      "outputs": [],
      "source": [
        "#=========== update the repo dir ===========#\n",
        "# clone the repository\n",
        "!git clone \n",
        "!cd linear_algebot\n",
        "\n",
        "# install dependencies\n",
        "!pip install -U -r requirements.txt"
      ]
    },
    {
      "cell_type": "markdown",
      "metadata": {},
      "source": [
        "### Install service-exposing module\n",
        "To replace ngrok with open source alternatives, I chose tunnelmole and localtunnel.  \n",
        "They both can work on Google colaboratory and Linux shell."
      ]
    },
    {
      "cell_type": "code",
      "execution_count": null,
      "metadata": {
        "collapsed": true,
        "id": "WPrGvD9bEcQp"
      },
      "outputs": [],
      "source": [
        "# install tunnelmole\n",
        "!curl -O https://install.tunnelmole.com/xD345/install && sudo bash install\n",
        "\n",
        "# install localtunnel if you prefer it to tunnelmole\n",
        "# !curl https://loca.lt/mytunnelpassword"
      ]
    },
    {
      "cell_type": "markdown",
      "metadata": {},
      "source": [
        "### Prepare a port for service-exposure\n",
        "The port has to be served before you run the chatbot app."
      ]
    },
    {
      "cell_type": "code",
      "execution_count": null,
      "metadata": {
        "colab": {
          "base_uri": "https://localhost:8080/"
        },
        "id": "K5TPBUrBBz98",
        "outputId": "e7913cf2-7ca2-4901-8438-787f83d5ed44"
      },
      "outputs": [],
      "source": [
        "# run tunnelmole in the background and assign port 1989 (or any other port you like)\n",
        "!nohup tmole 1989 & \n",
        "\n",
        "# !nohup lt --port 1989 & # Use this command if you prefer localtunnel"
      ]
    },
    {
      "cell_type": "markdown",
      "metadata": {},
      "source": [
        "### Setting up the URL for service\n",
        "Theoretically, there will be a file called 'nohup.out' generated automatically.  \n",
        "Find the https address corresponding to your localhost directory within the file, and copy it to `prefix_url` in `app.py`\n",
        "\n",
        "---\n",
        "\n",
        "#### Important!\n",
        "Copy the URL and stick `/callback` to its end before pasting the whole address to the Webhook URL field in Line developer page.  \n",
        "E.g. https://your-prefix-url \\+ /callback = https://your-prefix-url/callback"
      ]
    },
    {
      "cell_type": "markdown",
      "metadata": {},
      "source": [
        "### Launch the chatbot app\n",
        "After pasting the address to Line webhook and to prefix_url in app.py, we can finally run the chatbot app."
      ]
    },
    {
      "cell_type": "code",
      "execution_count": null,
      "metadata": {
        "colab": {
          "base_uri": "https://localhost:8080/"
        },
        "id": "6e5GfnMer22i",
        "outputId": "81e7d2f0-c6ea-4736-ae96-6085425b2dd9"
      },
      "outputs": [],
      "source": [
        "# update the prefix_url in app.py before running it\n",
        "!python app.py"
      ]
    },
    {
      "cell_type": "markdown",
      "metadata": {},
      "source": [
        "#### You can go texting your bot now!\n",
        "Try sending some messages through Line client interface  \n",
        "If everything works smoothly, the bot would reply to you  \n",
        "\n",
        "---"
      ]
    },
    {
      "cell_type": "markdown",
      "metadata": {},
      "source": [
        "### Service termination\n",
        "Apart from stopping the app by clicking the stop button in Notebook UI, don't forget to terminate tunnelmole or localtunnel in background execution."
      ]
    },
    {
      "cell_type": "code",
      "execution_count": null,
      "metadata": {
        "id": "H_-XruA2GXmd"
      },
      "outputs": [],
      "source": [
        "# terminate the background execution of tunnelmole\n",
        "!pkill -f 'tmole 1989'\n",
        "# !pkill -f 'lt --port 1989' # localtunnel version"
      ]
    }
  ],
  "metadata": {
    "accelerator": "GPU",
    "colab": {
      "gpuType": "T4",
      "provenance": []
    },
    "kernelspec": {
      "display_name": "Python 3",
      "name": "python3"
    },
    "language_info": {
      "name": "python"
    }
  },
  "nbformat": 4,
  "nbformat_minor": 0
}
