{
  "cells": [
    {
      "cell_type": "markdown",
      "metadata": {},
      "source": [
        "# 線性代訴\n",
        "此筆記本會充當聊天機器人的後端終端  \n",
        "聊天機器人的程式邏輯在 `app.py` 中"
      ]
    },
    {
      "cell_type": "code",
      "execution_count": null,
      "metadata": {
        "collapsed": true,
        "id": "iHWgcGYFs6GZ"
      },
      "outputs": [],
      "source": [
        "# 複製儲存庫\n",
        "!git clone https://codeberg.org/Codeglacier/Linear_Algebot.git\n",
        "%cd linear_algebot\n",
        "\n",
        "# 安裝相依套件\n",
        "!pip install -U -r requirements.txt"
      ]
    },
    {
      "cell_type": "markdown",
      "metadata": {},
      "source": [
        "### 安裝網域暴露用套件\n",
        "我用 tunnelmole 和 localtunnel 來取代 ngrok\n",
        "這兩個選擇都能在 Google colaboratory 和 Linux shell 上使用"
      ]
    },
    {
      "cell_type": "code",
      "execution_count": null,
      "metadata": {
        "collapsed": true,
        "id": "WPrGvD9bEcQp"
      },
      "outputs": [],
      "source": [
        "# 安裝 tunnelmole\n",
        "!curl -O https://install.tunnelmole.com/xD345/install && sudo bash install\n",
        "\n",
        "# 如果你比較喜歡 localtunnel，亦可改選它\n",
        "# !curl https://loca.lt/mytunnelpassword"
      ]
    },
    {
      "cell_type": "markdown",
      "metadata": {},
      "source": [
        "### 準備暴露網域用的埠號\n",
        "啟動聊天機器人前，先確定該埠已準備好服務"
      ]
    },
    {
      "cell_type": "code",
      "execution_count": null,
      "metadata": {
        "colab": {
          "base_uri": "https://localhost:8080/"
        },
        "id": "K5TPBUrBBz98",
        "outputId": "e7913cf2-7ca2-4901-8438-787f83d5ed44"
      },
      "outputs": [],
      "source": [
        "# run tunnelmole in the background and assign port 1989 (or any other port you like)\n",
        "# 在背景執行 tunnelmole 並指定埠號 1989 (或任何你喜歡的埠號)\n",
        "!nohup tmole 1989 & \n",
        "\n",
        "# !nohup lt --port 1989 & # 若你比較喜歡 localtunnel，就改用這行"
      ]
    },
    {
      "cell_type": "markdown",
      "metadata": {},
      "source": [
        "### 設定服務網址\n",
        "理論上執行 tunnelmole 後，會自動產生一個檔案 `nohup.out`  \n",
        "在該檔中會有個 https 網址對應到 localhost 位置，把它複製到 `app.py` 中的 `prefix_url`\n",
        "\n",
        "---\n",
        "\n",
        "#### 注意！\n",
        "將 URL 貼到 Line 開發者頁面的 Webhook URL 前，記得在 URL 後面加上 `/callback`  \n",
        "例如：https://your-prefix-url \\+ /callback = https://your-prefix-url/callback"
      ]
    },
    {
      "cell_type": "markdown",
      "metadata": {},
      "source": [
        "### 啟動聊天機器人\n",
        "將網址貼到 Line 開發者頁面的 Webhook URL、及 `app.py` 中的 `prefix_url` 後，終於可以~~奴役~~啟動聊天機器人了\n"
      ]
    },
    {
      "cell_type": "code",
      "execution_count": null,
      "metadata": {
        "colab": {
          "base_uri": "https://localhost:8080/"
        },
        "id": "6e5GfnMer22i",
        "outputId": "81e7d2f0-c6ea-4736-ae96-6085425b2dd9"
      },
      "outputs": [],
      "source": [
        "# 再次提醒，啟動前，記得先將 https 網址貼進 app.py 中的 prefix_url\n",
        "!python app.py"
      ]
    },
    {
      "cell_type": "markdown",
      "metadata": {},
      "source": [
        "#### 去跟聊天機器人對話看看吧！\n",
        "用一般 Line 介面傳些訊息給它\n",
        "若一切順利，機器人應該會回覆你\n",
        "\n",
        "---"
      ]
    },
    {
      "cell_type": "markdown",
      "metadata": {},
      "source": [
        "### 終止服務\n",
        "想結束服務時，按下 Notebook UI 上的終止鍵，或在 Terminal 按 Ctrl + C 終止程式執行  \n",
        "別忘記終止背景執行的 tunnelmole 或 localtunnel"
      ]
    },
    {
      "cell_type": "code",
      "execution_count": null,
      "metadata": {
        "id": "H_-XruA2GXmd"
      },
      "outputs": [],
      "source": [
        "# 終止背景執行的 tunnelmole 或 localtunnel\n",
        "!pkill -f 'tmole 1989'\n",
        "# !pkill -f 'lt --port 1989' # localtunnel"
      ]
    }
  ],
  "metadata": {
    "accelerator": "GPU",
    "colab": {
      "gpuType": "T4",
      "provenance": []
    },
    "kernelspec": {
      "display_name": "Python 3",
      "name": "python3"
    },
    "language_info": {
      "name": "python"
    }
  },
  "nbformat": 4,
  "nbformat_minor": 0
}
